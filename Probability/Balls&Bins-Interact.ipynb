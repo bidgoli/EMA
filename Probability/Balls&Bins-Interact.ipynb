{
 "cells": [
  {
   "cell_type": "markdown",
   "metadata": {},
   "source": [
    "# Balls and Bins\n",
    "--------\n",
    "\n",
    "In this notebook, We will examine the famous [Balls and Bins](https://en.wikipedia.org/wiki/Balls_into_bins) problem. Consider $n$ balls droping into $n$ bins independetly uniform at random. The theorem says: The bin with maximum load has a.a.s $\\frac{(2+o(1)) \\lg n}{\\lg\\lg n} $ balls inside.\n",
    "\n",
    "There is another version of the problem, mainly known as The Power of Two Choices , in which each balls has picks two bins indepent of other balls and drop into the bin with smaller balls. In this case the maximum load drop dramatically into $\\lg \\lg n + \\theta(1)$.\n",
    "\n",
    "**Remark : ** We will plot semi-log diagram of maximum load per $n$. As $n$ must grow exponentially, we may barely reach 22 iterations. You may compare the asymptotic function with the experimental values.\n"
   ]
  },
  {
   "cell_type": "code",
   "execution_count": 2,
   "metadata": {},
   "outputs": [],
   "source": [
    "import numpy as np\n",
    "import matplotlib.pyplot as plt\n",
    "from ipywidgets import interact\n",
    "from ipywidgets.widgets import IntSlider,Checkbox,fixed\n",
    "%matplotlib inline\n",
    "plt.rcParams['figure.figsize']=(14,4)\n",
    "\n",
    "maxx=50"
   ]
  },
  {
   "cell_type": "markdown",
   "metadata": {},
   "source": [
    "This function returns maximum load for different values of balls and bins. You may see the histogram by the checkbox."
   ]
  },
  {
   "cell_type": "code",
   "execution_count": 3,
   "metadata": {},
   "outputs": [
    {
     "data": {
      "application/vnd.jupyter.widget-view+json": {
       "model_id": "bb341b29205f4142a6669fec7e3560b4",
       "version_major": 2,
       "version_minor": 0
      },
      "text/html": [
       "<p>Failed to display Jupyter Widget of type <code>interactive</code>.</p>\n",
       "<p>\n",
       "  If you're reading this message in the Jupyter Notebook or JupyterLab Notebook, it may mean\n",
       "  that the widgets JavaScript is still loading. If this message persists, it\n",
       "  likely means that the widgets JavaScript library is either not installed or\n",
       "  not enabled. See the <a href=\"https://ipywidgets.readthedocs.io/en/stable/user_install.html\">Jupyter\n",
       "  Widgets Documentation</a> for setup instructions.\n",
       "</p>\n",
       "<p>\n",
       "  If you're reading this message in another frontend (for example, a static\n",
       "  rendering on GitHub or <a href=\"https://nbviewer.jupyter.org/\">NBViewer</a>),\n",
       "  it may mean that your frontend doesn't currently support widgets.\n",
       "</p>\n"
      ],
      "text/plain": [
       "interactive(children=(IntSlider(value=2, description='bins', max=50, min=2), Checkbox(value=False, description='Display Histogram'), Output()), _dom_classes=('widget-interact',))"
      ]
     },
     "metadata": {},
     "output_type": "display_data"
    }
   ],
   "source": [
    "@interact (bins=IntSlider(min=2,max=maxx),disp=Checkbox(False,description='Display Histogram'))\n",
    "def couple(bins,disp):\n",
    "    realiz=np.random.randint(0,bins,maxx)\n",
    "        \n",
    "    @interact(balls=IntSlider(min=0,max=maxx),disp=fixed(disp))\n",
    "    def balls_and_bins (balls,disp):\n",
    "        A=np.zeros(bins)\n",
    "        for j in range(balls):\n",
    "            A[realiz[j]]+=1\n",
    "        if disp: plt.bar(range(bins),A)\n",
    "        return np.max(A)"
   ]
  },
  {
   "cell_type": "code",
   "execution_count": 4,
   "metadata": {},
   "outputs": [
    {
     "data": {
      "application/vnd.jupyter.widget-view+json": {
       "model_id": "32b0cb7c23a24d158da94568bdf803d2",
       "version_major": 2,
       "version_minor": 0
      },
      "text/html": [
       "<p>Failed to display Jupyter Widget of type <code>interactive</code>.</p>\n",
       "<p>\n",
       "  If you're reading this message in the Jupyter Notebook or JupyterLab Notebook, it may mean\n",
       "  that the widgets JavaScript is still loading. If this message persists, it\n",
       "  likely means that the widgets JavaScript library is either not installed or\n",
       "  not enabled. See the <a href=\"https://ipywidgets.readthedocs.io/en/stable/user_install.html\">Jupyter\n",
       "  Widgets Documentation</a> for setup instructions.\n",
       "</p>\n",
       "<p>\n",
       "  If you're reading this message in another frontend (for example, a static\n",
       "  rendering on GitHub or <a href=\"https://nbviewer.jupyter.org/\">NBViewer</a>),\n",
       "  it may mean that your frontend doesn't currently support widgets.\n",
       "</p>\n"
      ],
      "text/plain": [
       "interactive(children=(IntSlider(value=2, description='bins', max=50, min=2), Checkbox(value=False, description='Display Histogram'), Output()), _dom_classes=('widget-interact',))"
      ]
     },
     "metadata": {},
     "output_type": "display_data"
    }
   ],
   "source": [
    "@interact (bins=IntSlider(min=2,max=maxx),disp=Checkbox(False,description='Display Histogram'))\n",
    "def couple(bins,disp):\n",
    "    realiz=np.random.randint(0,bins,[maxx,2])\n",
    "\n",
    "    @interact(balls=IntSlider(min=0,max=maxx),disp=fixed(disp))\n",
    "    def power_of_two_choices(balls,disp=False):\n",
    "        A=np.zeros(bins)\n",
    "        for j in range(balls):\n",
    "            idx=realiz[j,:]\n",
    "            if A[idx[0]]<A[idx[1]]:\n",
    "                A[idx[0]]+=1\n",
    "            else:\n",
    "                A[idx[1]]+=1\n",
    "        if disp: plt.bar(range(bins),A)\n",
    "        return np.max(A)"
   ]
  },
  {
   "cell_type": "markdown",
   "metadata": {},
   "source": [
    "For large $n$ it is not feasible to create a huge array to store the histogram of it. There is a better way for simulation and that is to store just the histogram. Every ball that is going to drop in a bin with $i$ balls inside, increase the number of bins with $i+1$ balls and decrease the number of bins with $i$ balls. So, it is enough to just choose an $i-$bin with the probability of $n_i/\\sum(n_i)$ where $n_i$ is the number of $i-$bins. This algorithm is a slower but can maintain space usage. It is also easy to generalize this algorithm for power of two choices version.\n",
    "\n",
    "**Remark : ** You may use it in the monte carlo instead of balls_and_bins function"
   ]
  },
  {
   "cell_type": "code",
   "execution_count": 6,
   "metadata": {},
   "outputs": [
    {
     "data": {
      "application/vnd.jupyter.widget-view+json": {
       "model_id": "4dd8de07a58e4776b782f4412d00d673",
       "version_major": 2,
       "version_minor": 0
      },
      "text/html": [
       "<p>Failed to display Jupyter Widget of type <code>interactive</code>.</p>\n",
       "<p>\n",
       "  If you're reading this message in the Jupyter Notebook or JupyterLab Notebook, it may mean\n",
       "  that the widgets JavaScript is still loading. If this message persists, it\n",
       "  likely means that the widgets JavaScript library is either not installed or\n",
       "  not enabled. See the <a href=\"https://ipywidgets.readthedocs.io/en/stable/user_install.html\">Jupyter\n",
       "  Widgets Documentation</a> for setup instructions.\n",
       "</p>\n",
       "<p>\n",
       "  If you're reading this message in another frontend (for example, a static\n",
       "  rendering on GitHub or <a href=\"https://nbviewer.jupyter.org/\">NBViewer</a>),\n",
       "  it may mean that your frontend doesn't currently support widgets.\n",
       "</p>\n"
      ],
      "text/plain": [
       "interactive(children=(IntSlider(value=2, description='bins', max=50, min=2), Checkbox(value=False, description='Power of Two Choices'), Checkbox(value=False, description='Display Histogram'), Output()), _dom_classes=('widget-interact',))"
      ]
     },
     "metadata": {},
     "output_type": "display_data"
    }
   ],
   "source": [
    "@interact (bins=IntSlider(min=2,max=maxx),power_of_two=Checkbox(False,description='Power of Two Choices'),disp=Checkbox(False,description='Display Histogram'))\n",
    "def couple(bins,power_of_two,disp):\n",
    "    realiz=np.random.rand(maxx,2)\n",
    "\n",
    "    @interact(balls=IntSlider(min=5,max=maxx),power_of_two=fixed(power_of_two),disp=fixed(disp))\n",
    "    def space_efficient_algorithm(balls,power_of_two,disp=False):\n",
    "        bin_hist=np.zeros(balls)\n",
    "        bin_hist[0]=bins\n",
    "        for i in range(balls):\n",
    "            cumsum=np.cumsum(bin_hist)/bins\n",
    "            threshold=realiz[i,0]\n",
    "            if power_of_two: threshold=min(threshold,realiz[i,1])\n",
    "            choice=np.min(np.argwhere(cumsum>=threshold))\n",
    "            bin_hist[choice]-=1\n",
    "            bin_hist[choice+1]+=1\n",
    "        maxload=np.max(np.argwhere(bin_hist>0))\n",
    "        if disp:\n",
    "            plt.bar(range(maxload+2),bin_hist[:maxload+2])\n",
    "            plt.ylim([0,max(10,max(bin_hist))+1])\n",
    "        return maxload"
   ]
  },
  {
   "cell_type": "code",
   "execution_count": null,
   "metadata": {},
   "outputs": [],
   "source": []
  }
 ],
 "metadata": {
  "kernelspec": {
   "display_name": "Python 3",
   "language": "python",
   "name": "python3"
  },
  "language_info": {
   "codemirror_mode": {
    "name": "ipython",
    "version": 3
   },
   "file_extension": ".py",
   "mimetype": "text/x-python",
   "name": "python",
   "nbconvert_exporter": "python",
   "pygments_lexer": "ipython3",
   "version": "3.6.4"
  }
 },
 "nbformat": 4,
 "nbformat_minor": 2
}
