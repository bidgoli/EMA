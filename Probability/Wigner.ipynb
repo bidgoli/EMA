{
 "cells": [
  {
   "cell_type": "markdown",
   "metadata": {},
   "source": [
    "### Wigner's Semicircle law\n",
    "\n",
    "Let $A$ be a symmetric random matrix. For simplicity you may assume that $a_{ij}$ are independent standard normal random variables for $i \\geqslant j$. Wingner's semicircle law assert that the distribution of the eigenvalues of $A$ converges to a semicircle around the origin with radius $2\\sigma \\sqrt(N)=2\\sqrt(N)$ where $N$ is the size of the matrix. This theorem holds in more general setting. For furthur reading you may see [this](http://mathworld.wolfram.com/WignersSemicircleLaw.html)."
   ]
  },
  {
   "cell_type": "code",
   "execution_count": 1,
   "metadata": {},
   "outputs": [],
   "source": [
    "import numpy as np\n",
    "import matplotlib.pyplot as plt\n",
    "%matplotlib inline"
   ]
  },
  {
   "cell_type": "code",
   "execution_count": 2,
   "metadata": {},
   "outputs": [],
   "source": [
    "N=100\n",
    "n_it=1000"
   ]
  },
  {
   "cell_type": "code",
   "execution_count": 3,
   "metadata": {},
   "outputs": [],
   "source": [
    "def gen_mat():\n",
    "    #A=np.random.rand(N,N)-0.5\n",
    "    A=np.random.normal(0,1,(N,N))\n",
    "    for i in range (N):\n",
    "        for j in range (i):\n",
    "            A[j,i]=A[i,j]\n",
    "            \n",
    "    return A"
   ]
  },
  {
   "cell_type": "code",
   "execution_count": 4,
   "metadata": {},
   "outputs": [],
   "source": [
    "spec_list=[]\n",
    "for i in range(n_it):\n",
    "    A=gen_mat()\n",
    "    spec_list.extend(np.linalg.eigvals(A))"
   ]
  },
  {
   "cell_type": "code",
   "execution_count": 5,
   "metadata": {},
   "outputs": [
    {
     "data": {
      "text/plain": [
       "[<matplotlib.lines.Line2D at 0x25fe5fcd198>]"
      ]
     },
     "execution_count": 5,
     "metadata": {},
     "output_type": "execute_result"
    },
    {
     "data": {
      "image/png": "[encoded data removed]",
      "text/plain": [
       "<matplotlib.figure.Figure at 0x25fe5fcd0f0>"
      ]
     },
     "metadata": {},
     "output_type": "display_data"
    }
   ],
   "source": [
    "sqr=np.sqrt(N)\n",
    "bins=plt.hist(spec_list,bins=100,density=True)\n",
    "x=np.arange(4*np.floor(sqr)+1)-2*np.floor(sqr)\n",
    "y=[np.sqrt(1-(0.5*i/sqr)**2)/(np.pi*sqr) for i in x]\n",
    "plt.plot(x,y)"
   ]
  },
  {
   "cell_type": "markdown",
   "metadata": {},
   "source": [
    " ### Tadaa!\n",
    " \n",
    " The radius of the semicircle is $2\\sigma \\sqrt N$ as expected. "
   ]
  }
 ],
 "metadata": {
  "kernelspec": {
   "display_name": "Python 3",
   "language": "python",
   "name": "python3"
  },
  "language_info": {
   "codemirror_mode": {
    "name": "ipython",
    "version": 3
   },
   "file_extension": ".py",
   "mimetype": "text/x-python",
   "name": "python",
   "nbconvert_exporter": "python",
   "pygments_lexer": "ipython3",
   "version": "3.6.4"
  }
 },
 "nbformat": 4,
 "nbformat_minor": 2
}
