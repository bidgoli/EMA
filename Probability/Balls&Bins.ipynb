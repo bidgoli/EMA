{
 "cells": [
  {
   "cell_type": "markdown",
   "metadata": {},
   "source": [
    "# Balls and Bins\n",
    "--------\n",
    "\n",
    "In this notebook, We will examine the famous [Balls and Bins](https://en.wikipedia.org/wiki/Balls_into_bins) problem. Consider $n$ balls droping into $n$ bins independetly uniform at random. The theorem says: The bin with maximum load has a.a.s $\\frac{(2+o(1)) \\lg n}{\\lg\\lg n} $ balls inside.\n",
    "\n",
    "There is another version of the problem, mainly known as The Power of Two Choices , in which each balls has picks two bins indepent of other balls and drop into the bin with smaller balls. In this case the maximum load drop dramatically into $\\lg \\lg n + \\theta(1)$.\n",
    "\n",
    "**Remark : ** We will plot semi-log diagram of maximum load per $n$. As $n$ must grow exponentially, we may barely reach 25 iterations. You may compare the asymptotic function with the experimental values.\n"
   ]
  },
  {
   "cell_type": "code",
   "execution_count": 1,
   "metadata": {},
   "outputs": [],
   "source": [
    "import numpy as np\n",
    "import matplotlib.pyplot as plt\n",
    "%matplotlib inline\n",
    "\n",
    "iterations=25"
   ]
  },
  {
   "cell_type": "code",
   "execution_count": 2,
   "metadata": {},
   "outputs": [],
   "source": [
    "def balls_and_bins (balls,bins,disp=False):\n",
    "    A=np.zeros(bins)\n",
    "    for j in range(balls):\n",
    "        A[np.random.randint(0,bins)]+=1\n",
    "    if disp: print(A)\n",
    "    return np.max(A)"
   ]
  },
  {
   "cell_type": "markdown",
   "metadata": {},
   "source": [
    "You may test balls_and_bins function for $n=100$"
   ]
  },
  {
   "cell_type": "code",
   "execution_count": 3,
   "metadata": {
    "scrolled": true
   },
   "outputs": [
    {
     "name": "stdout",
     "output_type": "stream",
     "text": [
      "[4. 1. 1. 2. 2. 1. 1. 1. 0. 0. 1. 0. 0. 0. 2. 0. 1. 1. 2. 1. 1. 0. 0. 1.\n",
      " 2. 2. 1. 0. 0. 1. 0. 0. 1. 0. 2. 2. 0. 1. 1. 0. 1. 0. 1. 1. 2. 0. 1. 1.\n",
      " 2. 2. 2. 2. 1. 1. 0. 0. 2. 1. 1. 2. 2. 2. 1. 0. 1. 2. 1. 0. 1. 1. 1. 4.\n",
      " 0. 0. 1. 0. 0. 1. 0. 1. 1. 4. 1. 0. 0. 2. 0. 0. 1. 1. 0. 0. 0. 4. 1. 1.\n",
      " 2. 3. 1. 0.]\n",
      "\n",
      "The maximum load is :   4.0\n"
     ]
    }
   ],
   "source": [
    "print('\\nThe maximum load is :  ' ,balls_and_bins(100,100,True))"
   ]
  },
  {
   "cell_type": "code",
   "execution_count": 4,
   "metadata": {},
   "outputs": [],
   "source": [
    "mx1=[]\n",
    "for i in range(1,iterations):\n",
    "    mx1.append(balls_and_bins(2**i,2**i))"
   ]
  },
  {
   "cell_type": "code",
   "execution_count": 5,
   "metadata": {},
   "outputs": [
    {
     "data": {
      "text/plain": [
       "[<matplotlib.lines.Line2D at 0x1f9f4ba7e80>]"
      ]
     },
     "execution_count": 5,
     "metadata": {},
     "output_type": "execute_result"
    },
    {
     "data": {
      "image/png": "[encoded data removed]",
      "text/plain": [
       "<matplotlib.figure.Figure at 0x1f9f4ba7860>"
      ]
     },
     "metadata": {},
     "output_type": "display_data"
    }
   ],
   "source": [
    "figure=plt.figure()\n",
    "plt.plot(mx1)\n",
    "plt.plot(range(3,iterations),[2*x/np.log2(x) for x in range(3,iterations)])"
   ]
  },
  {
   "cell_type": "code",
   "execution_count": 6,
   "metadata": {},
   "outputs": [],
   "source": [
    "def power_of_two_choices(balls,bins,disp=False):\n",
    "    A=np.zeros(bins)\n",
    "    for j in range(balls):\n",
    "        idx=np.random.randint(0,bins,size=2)\n",
    "        if A[idx[0]]<A[idx[1]]:\n",
    "            A[idx[0]]+=1\n",
    "        else:\n",
    "            A[idx[1]]+=1\n",
    "    if disp: print(A)\n",
    "    return np.max(A)"
   ]
  },
  {
   "cell_type": "markdown",
   "metadata": {},
   "source": [
    "You may test power_of_two_choices for $n=100$"
   ]
  },
  {
   "cell_type": "code",
   "execution_count": 7,
   "metadata": {},
   "outputs": [
    {
     "name": "stdout",
     "output_type": "stream",
     "text": [
      "[0. 1. 1. 1. 2. 0. 2. 1. 1. 1. 1. 0. 1. 1. 0. 1. 2. 3. 2. 0. 2. 0. 2. 2.\n",
      " 1. 1. 2. 1. 1. 2. 1. 1. 1. 1. 1. 0. 1. 0. 1. 1. 1. 1. 1. 1. 2. 1. 1. 0.\n",
      " 1. 1. 1. 1. 1. 1. 1. 1. 0. 1. 1. 0. 2. 0. 1. 2. 0. 0. 1. 1. 0. 1. 0. 1.\n",
      " 2. 1. 2. 1. 1. 1. 2. 0. 1. 1. 2. 2. 1. 0. 2. 0. 2. 2. 2. 1. 0. 1. 0. 0.\n",
      " 1. 1. 1. 0.]\n",
      "\n",
      "The maximum load is :   3.0\n"
     ]
    }
   ],
   "source": [
    "print('\\nThe maximum load is :  ' ,power_of_two_choices(100,100,True))"
   ]
  },
  {
   "cell_type": "code",
   "execution_count": 8,
   "metadata": {},
   "outputs": [],
   "source": [
    "mx2=[]\n",
    "for i in range(1,iterations):\n",
    "    mx2.append(power_of_two_choices(2**i,2**i))"
   ]
  },
  {
   "cell_type": "code",
   "execution_count": 9,
   "metadata": {},
   "outputs": [
    {
     "data": {
      "text/plain": [
       "[<matplotlib.lines.Line2D at 0x1f9f4c7de10>]"
      ]
     },
     "execution_count": 9,
     "metadata": {},
     "output_type": "execute_result"
    },
    {
     "data": {
      "image/png": "[encoded data removed]",
      "text/plain": [
       "<matplotlib.figure.Figure at 0x1f9f4c48208>"
      ]
     },
     "metadata": {},
     "output_type": "display_data"
    }
   ],
   "source": [
    "figure=plt.figure()\n",
    "plt.plot(mx2)\n",
    "plt.plot(range(3,iterations),[np.log2(x) for x in range(3,iterations)])"
   ]
  }
 ],
 "metadata": {
  "kernelspec": {
   "display_name": "Python 3",
   "language": "python",
   "name": "python3"
  },
  "language_info": {
   "codemirror_mode": {
    "name": "ipython",
    "version": 3
   },
   "file_extension": ".py",
   "mimetype": "text/x-python",
   "name": "python",
   "nbconvert_exporter": "python",
   "pygments_lexer": "ipython3",
   "version": "3.6.4"
  }
 },
 "nbformat": 4,
 "nbformat_minor": 2
}
