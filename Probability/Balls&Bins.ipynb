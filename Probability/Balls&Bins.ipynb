{
 "cells": [
  {
   "cell_type": "markdown",
   "metadata": {},
   "source": [
    "# Balls and Bins\n",
    "--------\n",
    "\n",
    "In this notebook, We will examine the famous [Balls and Bins](https://en.wikipedia.org/wiki/Balls_into_bins) problem. Consider $n$ balls droping into $n$ bins independetly uniform at random. The theorem says: The bin with maximum load has a.a.s $\\frac{(2+o(1)) \\lg n}{\\lg\\lg n} $ balls inside.\n",
    "\n",
    "There is another version of the problem, mainly known as The Power of Two Choices , in which each balls has picks two bins indepent of other balls and drop into the bin with smaller balls. In this case the maximum load drop dramatically into $\\lg \\lg n + \\theta(1)$.\n",
    "\n",
    "**Remark : ** We will plot semi-log diagram of maximum load per $n$. As $n$ must grow exponentially, we may barely reach 22 iterations. You may compare the asymptotic function with the experimental values.\n"
   ]
  },
  {
   "cell_type": "code",
   "execution_count": 9,
   "metadata": {},
   "outputs": [],
   "source": [
    "import numpy as np\n",
    "import matplotlib.pyplot as plt\n",
    "from ipywidgets import interact\n",
    "from ipywidgets.widgets import IntSlider,Checkbox\n",
    "from datetime import datetime as dt\n",
    "%matplotlib inline\n",
    "plt.rcParams['figure.figsize']=(14,4)\n",
    "#Uncomment the line below for better quality of figures\n",
    "#%config InlineBackend.figure_format='svg'\n",
    "\n",
    "iterations=22\n",
    "epochs=10\n",
    "x=range(3,iterations)\n",
    "start=dt.now()"
   ]
  },
  {
   "cell_type": "markdown",
   "metadata": {},
   "source": [
    "This function returns maximum load for different values of balls and bins. You may see the histogram by checking the display."
   ]
  },
  {
   "cell_type": "code",
   "execution_count": 10,
   "metadata": {},
   "outputs": [
    {
     "data": {
      "application/vnd.jupyter.widget-view+json": {
       "model_id": "d5e5ddc3ed11402f867a64e90d443c81",
       "version_major": 2,
       "version_minor": 0
      },
      "text/html": [
       "<p>Failed to display Jupyter Widget of type <code>interactive</code>.</p>\n",
       "<p>\n",
       "  If you're reading this message in the Jupyter Notebook or JupyterLab Notebook, it may mean\n",
       "  that the widgets JavaScript is still loading. If this message persists, it\n",
       "  likely means that the widgets JavaScript library is either not installed or\n",
       "  not enabled. See the <a href=\"https://ipywidgets.readthedocs.io/en/stable/user_install.html\">Jupyter\n",
       "  Widgets Documentation</a> for setup instructions.\n",
       "</p>\n",
       "<p>\n",
       "  If you're reading this message in another frontend (for example, a static\n",
       "  rendering on GitHub or <a href=\"https://nbviewer.jupyter.org/\">NBViewer</a>),\n",
       "  it may mean that your frontend doesn't currently support widgets.\n",
       "</p>\n"
      ],
      "text/plain": [
       "interactive(children=(IntSlider(value=0, description='balls', max=300), IntSlider(value=2, description='bins', min=2), Checkbox(value=False, description='Display Histogram'), Output()), _dom_classes=('widget-interact',))"
      ]
     },
     "metadata": {},
     "output_type": "display_data"
    }
   ],
   "source": [
    "@interact(balls=IntSlider(min=0,max=300),bins=IntSlider(min=2,max=100),disp=Checkbox(False,description='Display Histogram'))\n",
    "def balls_and_bins (balls,bins,disp=False):\n",
    "    A=np.zeros(bins)\n",
    "    for j in range(balls):\n",
    "        A[np.random.randint(0,bins)]+=1\n",
    "    if disp: plt.bar(range(bins),A)\n",
    "    return np.max(A)"
   ]
  },
  {
   "cell_type": "code",
   "execution_count": 3,
   "metadata": {},
   "outputs": [],
   "source": [
    "def monte_carlo(func):\n",
    "    mx=[]\n",
    "    for i in range(3,iterations):\n",
    "        results=[]\n",
    "        for j in range(epochs):\n",
    "            results.append(func(2**i,2**i))\n",
    "        mx.append(np.mean(results))\n",
    "    return mx"
   ]
  },
  {
   "cell_type": "code",
   "execution_count": 4,
   "metadata": {},
   "outputs": [
    {
     "data": {
      "image/png": "[encoded data removed]",
      "text/plain": [
       "<matplotlib.figure.Figure at 0x254c377bc50>"
      ]
     },
     "metadata": {},
     "output_type": "display_data"
    }
   ],
   "source": [
    "mx1=monte_carlo(balls_and_bins)\n",
    "\n",
    "figure=plt.figure()\n",
    "plt.plot(x,mx1,label='monte_carlo')\n",
    "plt.plot(x,[2*x/np.log2(x) for x in x],label=r'$\\frac{\\log \\log (n)}{\\log (n)}$')\n",
    "plt.xlabel('$\\log n$')\n",
    "plt.ylabel('max load')\n",
    "plt.legend()\n",
    "_=plt.title(r'max load in balls and bins model')"
   ]
  },
  {
   "cell_type": "code",
   "execution_count": 11,
   "metadata": {},
   "outputs": [
    {
     "data": {
      "application/vnd.jupyter.widget-view+json": {
       "model_id": "6777ff852807479292d4e9cfd752720d",
       "version_major": 2,
       "version_minor": 0
      },
      "text/html": [
       "<p>Failed to display Jupyter Widget of type <code>interactive</code>.</p>\n",
       "<p>\n",
       "  If you're reading this message in the Jupyter Notebook or JupyterLab Notebook, it may mean\n",
       "  that the widgets JavaScript is still loading. If this message persists, it\n",
       "  likely means that the widgets JavaScript library is either not installed or\n",
       "  not enabled. See the <a href=\"https://ipywidgets.readthedocs.io/en/stable/user_install.html\">Jupyter\n",
       "  Widgets Documentation</a> for setup instructions.\n",
       "</p>\n",
       "<p>\n",
       "  If you're reading this message in another frontend (for example, a static\n",
       "  rendering on GitHub or <a href=\"https://nbviewer.jupyter.org/\">NBViewer</a>),\n",
       "  it may mean that your frontend doesn't currently support widgets.\n",
       "</p>\n"
      ],
      "text/plain": [
       "interactive(children=(IntSlider(value=0, description='balls', max=300), IntSlider(value=2, description='bins', min=2), Checkbox(value=False, description='Display Histogram'), Output()), _dom_classes=('widget-interact',))"
      ]
     },
     "metadata": {},
     "output_type": "display_data"
    }
   ],
   "source": [
    "@interact(balls=IntSlider(min=0,max=300),bins=IntSlider(min=2,max=100),disp=Checkbox(False,description='Display Histogram'))\n",
    "def power_of_two_choices(balls,bins,disp=False):\n",
    "    A=np.zeros(bins)\n",
    "    for j in range(balls):\n",
    "        idx=np.random.randint(0,bins,size=2)\n",
    "        if A[idx[0]]<A[idx[1]]:\n",
    "            A[idx[0]]+=1\n",
    "        else:\n",
    "            A[idx[1]]+=1\n",
    "    if disp: plt.bar(range(bins),A)\n",
    "    return np.max(A)"
   ]
  },
  {
   "cell_type": "code",
   "execution_count": 6,
   "metadata": {},
   "outputs": [
    {
     "data": {
      "image/png": "[encoded data removed]",
      "text/plain": [
       "<matplotlib.figure.Figure at 0x254c3b5f0f0>"
      ]
     },
     "metadata": {},
     "output_type": "display_data"
    }
   ],
   "source": [
    "mx2=monte_carlo(power_of_two_choices)\n",
    "\n",
    "figure=plt.figure()\n",
    "plt.plot(x,mx2,label='monte_carlo')\n",
    "plt.plot(x,[np.log2(x) for x in x],label=r'y=$\\log \\log (n)$')\n",
    "plt.xlabel('$\\log n$')\n",
    "plt.ylabel('max load')\n",
    "plt.legend()\n",
    "_=plt.title(r'max load in power of two choices model')"
   ]
  },
  {
   "cell_type": "markdown",
   "metadata": {},
   "source": [
    "For large $n$ it is not feasible to create a huge array to store the histogram of it. There is a better way for simulation and that is to store just the histogram. Every ball that is going to drop in a bin with $i$ balls inside, increase the number of bins with $i+1$ balls and decrease the number of bins with $i$ balls. So, it is enough to just choose an $i-$bin with the probability of $n_i/\\sum(n_i)$ where $n_i$ is the number of $i-$bins. This algorithm is a slower but can maintain space usage. It is also easy to generalize this algorithm for power of two choices version.\n",
    "\n",
    "**Remark : ** You may use it in the monte carlo instead of balls_and_bins function"
   ]
  },
  {
   "cell_type": "code",
   "execution_count": 12,
   "metadata": {},
   "outputs": [
    {
     "data": {
      "application/vnd.jupyter.widget-view+json": {
       "model_id": "dd7438fdeae74dbb9668597a07a6ca15",
       "version_major": 2,
       "version_minor": 0
      },
      "text/html": [
       "<p>Failed to display Jupyter Widget of type <code>interactive</code>.</p>\n",
       "<p>\n",
       "  If you're reading this message in the Jupyter Notebook or JupyterLab Notebook, it may mean\n",
       "  that the widgets JavaScript is still loading. If this message persists, it\n",
       "  likely means that the widgets JavaScript library is either not installed or\n",
       "  not enabled. See the <a href=\"https://ipywidgets.readthedocs.io/en/stable/user_install.html\">Jupyter\n",
       "  Widgets Documentation</a> for setup instructions.\n",
       "</p>\n",
       "<p>\n",
       "  If you're reading this message in another frontend (for example, a static\n",
       "  rendering on GitHub or <a href=\"https://nbviewer.jupyter.org/\">NBViewer</a>),\n",
       "  it may mean that your frontend doesn't currently support widgets.\n",
       "</p>\n"
      ],
      "text/plain": [
       "interactive(children=(IntSlider(value=5, description='balls', max=300, min=5), IntSlider(value=5, description='bins', min=5), Checkbox(value=False, description='Power of Two Choices'), Checkbox(value=False, description='Display Histogram of Loads'), Output()), _dom_classes=('widget-interact',))"
      ]
     },
     "metadata": {},
     "output_type": "display_data"
    }
   ],
   "source": [
    "@interact(balls=IntSlider(min=5,max=300),bins=IntSlider(min=5,max=100),power_of_two=Checkbox(False,description='Power of Two Choices'),disp=Checkbox(False,description='Display Histogram of Loads'))\n",
    "def space_efficient_algorithm(balls,bins,power_of_two,disp=False):\n",
    "    bin_hist=np.zeros(balls)\n",
    "    bin_hist[0]=bins\n",
    "    for i in range(balls):\n",
    "        cumsum=np.cumsum(bin_hist)/bins\n",
    "        threshold=np.random.rand()\n",
    "        if power_of_two: threshold=min(threshold,np.random.rand())\n",
    "        choice=np.min(np.argwhere(cumsum>=threshold))\n",
    "        bin_hist[choice]-=1\n",
    "        bin_hist[choice+1]+=1\n",
    "    maxload=np.max(np.argwhere(bin_hist>0))\n",
    "    if disp:plt.bar(range(maxload+2),bin_hist[:maxload+2])\n",
    "    return maxload"
   ]
  },
  {
   "cell_type": "code",
   "execution_count": 8,
   "metadata": {},
   "outputs": [
    {
     "name": "stdout",
     "output_type": "stream",
     "text": [
      "Total running time :  0:08:43.706442\n"
     ]
    }
   ],
   "source": [
    "print('Total running time : ' , dt.now()-start)"
   ]
  }
 ],
 "metadata": {
  "kernelspec": {
   "display_name": "Python 3",
   "language": "python",
   "name": "python3"
  },
  "language_info": {
   "codemirror_mode": {
    "name": "ipython",
    "version": 3
   },
   "file_extension": ".py",
   "mimetype": "text/x-python",
   "name": "python",
   "nbconvert_exporter": "python",
   "pygments_lexer": "ipython3",
   "version": "3.6.4"
  }
 },
 "nbformat": 4,
 "nbformat_minor": 2
}
