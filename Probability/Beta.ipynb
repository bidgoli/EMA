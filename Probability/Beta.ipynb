{
 "cells": [
  {
   "cell_type": "markdown",
   "metadata": {},
   "source": [
    "# [Beta Distribution](https://en.wikipedia.org/wiki/Beta_distribution)\n",
    "\n",
    "\n",
    "Here is a light introduction to Beta Distribution. Beta Distribution is has two parameter $a,b > 0$. For $0 \\leqslant x \\leqslant 1$ PDF of beta is as follows\n",
    "\n",
    "$$f_{a,b}(x)=\\frac {1}{B(a,b)}x^{a-1}(1-x){b-1},$$\n",
    "\n",
    "where $B(a,b)$ is the normalizer and equals to $\\frac {\\Gamma (a)\\Gamma(b)}{\\Gamma (a+b)}$. To see why this quantity is the normalizer look for example at [this](https://brilliant.org/wiki/beta-function/).\n",
    "\n",
    "But First of all lets play a bit with parameters"
   ]
  },
  {
   "cell_type": "code",
   "execution_count": 1,
   "metadata": {},
   "outputs": [],
   "source": [
    "import numpy as np\n",
    "import matplotlib.pyplot as plt\n",
    "from ipywidgets import interact\n",
    "from ipywidgets.widgets import IntSlider,Checkbox,fixed,FloatSlider\n",
    "from scipy.stats import beta,binom\n",
    "%matplotlib inline"
   ]
  },
  {
   "cell_type": "code",
   "execution_count": 5,
   "metadata": {},
   "outputs": [
    {
     "data": {
      "application/vnd.jupyter.widget-view+json": {
       "model_id": "391a47a1543747fa936321d6daa301b8",
       "version_major": 2,
       "version_minor": 0
      },
      "text/html": [
       "<p>Failed to display Jupyter Widget of type <code>interactive</code>.</p>\n",
       "<p>\n",
       "  If you're reading this message in the Jupyter Notebook or JupyterLab Notebook, it may mean\n",
       "  that the widgets JavaScript is still loading. If this message persists, it\n",
       "  likely means that the widgets JavaScript library is either not installed or\n",
       "  not enabled. See the <a href=\"https://ipywidgets.readthedocs.io/en/stable/user_install.html\">Jupyter\n",
       "  Widgets Documentation</a> for setup instructions.\n",
       "</p>\n",
       "<p>\n",
       "  If you're reading this message in another frontend (for example, a static\n",
       "  rendering on GitHub or <a href=\"https://nbviewer.jupyter.org/\">NBViewer</a>),\n",
       "  it may mean that your frontend doesn't currently support widgets.\n",
       "</p>\n"
      ],
      "text/plain": [
       "interactive(children=(FloatSlider(value=1.0, description='a', max=5.0, min=0.1), FloatSlider(value=1.0, description='b', max=5.0, min=0.1), Output()), _dom_classes=('widget-interact',))"
      ]
     },
     "metadata": {},
     "output_type": "display_data"
    }
   ],
   "source": [
    "@interact(a=FloatSlider(min=0.1,max=5,value=1,step=0.1),b=FloatSlider(min=0.1,max=5,value=1,step=0.1))\n",
    "def mybeta(a,b):\n",
    "    RV=beta(a,b)\n",
    "    x=np.linspace(0,1,100)\n",
    "    \n",
    "    plt.plot(x,RV.pdf(x))\n",
    "    print('Mean : ', RV.expect(), '   |    Std : ', RV.std())"
   ]
  },
  {
   "cell_type": "markdown",
   "metadata": {},
   "source": [
    "### [Polya Urn](https://en.wikipedia.org/wiki/P%C3%B3lya_urn_model)\n",
    "\n",
    "Probably it's the most intutive way to think about Beta. Consider an urn containing $a$ white balls and $b$ black balls, $a,b$ are not neccessarily integer! You may think of it as mass instead of number. At each step, draw a ball uniformly at random and replace it together with another ball of the same color. Percentage of white balls, i.e. $\\frac {a}{a+b}$, converges to $\\beta(a,b)$.\n",
    "\n",
    "Here is a simulation."
   ]
  },
  {
   "cell_type": "code",
   "execution_count": 38,
   "metadata": {},
   "outputs": [
    {
     "data": {
      "application/vnd.jupyter.widget-view+json": {
       "model_id": "89d92633c4a84f4a9135677228482895",
       "version_major": 2,
       "version_minor": 0
      },
      "text/html": [
       "<p>Failed to display Jupyter Widget of type <code>interactive</code>.</p>\n",
       "<p>\n",
       "  If you're reading this message in the Jupyter Notebook or JupyterLab Notebook, it may mean\n",
       "  that the widgets JavaScript is still loading. If this message persists, it\n",
       "  likely means that the widgets JavaScript library is either not installed or\n",
       "  not enabled. See the <a href=\"https://ipywidgets.readthedocs.io/en/stable/user_install.html\">Jupyter\n",
       "  Widgets Documentation</a> for setup instructions.\n",
       "</p>\n",
       "<p>\n",
       "  If you're reading this message in another frontend (for example, a static\n",
       "  rendering on GitHub or <a href=\"https://nbviewer.jupyter.org/\">NBViewer</a>),\n",
       "  it may mean that your frontend doesn't currently support widgets.\n",
       "</p>\n"
      ],
      "text/plain": [
       "interactive(children=(FloatSlider(value=1.0, description='a', max=5.0, min=0.1), FloatSlider(value=1.0, description='b', max=5.0, min=0.1), Output()), _dom_classes=('widget-interact',))"
      ]
     },
     "metadata": {},
     "output_type": "display_data"
    }
   ],
   "source": [
    "@interact(a=FloatSlider(min=0.1,max=5,value=1,step=0.1),b=FloatSlider(min=0.1,max=5,value=1,step=0.1))\n",
    "def mybeta(a,b):\n",
    "    N=8\n",
    "    it=11\n",
    "    r_list=[]\n",
    "    for t in range(2**it):\n",
    "        aa=a\n",
    "        bb=b\n",
    "        for i in range(2**N):\n",
    "            if np.random.rand()<aa/(aa+bb):\n",
    "                aa+=1\n",
    "            else:\n",
    "                bb+=1\n",
    "        r_list.append(aa/(aa+bb))\n",
    "    \n",
    "    RV=beta(a,b)\n",
    "    x=np.linspace(0,1,100)\n",
    "    plt.plot(x,RV.pdf(x))\n",
    "    plt.hist(r_list,bins=np.linspace(0,1,10),density=True)"
   ]
  },
  {
   "cell_type": "markdown",
   "metadata": {},
   "source": [
    "### [Order statistics](https://en.wikipedia.org/wiki/Order_statistic#The_order_statistics_of_the_uniform_distribution)\n",
    "\n",
    "Sample $n$ numbers in $[0,1]$ uniformly at random. What is the distribution of the $k-$th smallest one? The answer is $\\beta(k,n-k+1)$. I couldn't find any direct relation between Polya urn and Order statistics, but to see a proof you may look at [this](https://stats.stackexchange.com/questions/4659/relationship-between-binomial-and-beta-distributions/).\n",
    "\n",
    "Here is the simulation."
   ]
  },
  {
   "cell_type": "code",
   "execution_count": 43,
   "metadata": {},
   "outputs": [
    {
     "data": {
      "application/vnd.jupyter.widget-view+json": {
       "model_id": "d609a4713ac147bd90443672cf78fc04",
       "version_major": 2,
       "version_minor": 0
      },
      "text/html": [
       "<p>Failed to display Jupyter Widget of type <code>interactive</code>.</p>\n",
       "<p>\n",
       "  If you're reading this message in the Jupyter Notebook or JupyterLab Notebook, it may mean\n",
       "  that the widgets JavaScript is still loading. If this message persists, it\n",
       "  likely means that the widgets JavaScript library is either not installed or\n",
       "  not enabled. See the <a href=\"https://ipywidgets.readthedocs.io/en/stable/user_install.html\">Jupyter\n",
       "  Widgets Documentation</a> for setup instructions.\n",
       "</p>\n",
       "<p>\n",
       "  If you're reading this message in another frontend (for example, a static\n",
       "  rendering on GitHub or <a href=\"https://nbviewer.jupyter.org/\">NBViewer</a>),\n",
       "  it may mean that your frontend doesn't currently support widgets.\n",
       "</p>\n"
      ],
      "text/plain": [
       "interactive(children=(IntSlider(value=1, description='n', max=20, min=1), IntSlider(value=1, description='k', max=20, min=1), Output()), _dom_classes=('widget-interact',))"
      ]
     },
     "metadata": {},
     "output_type": "display_data"
    }
   ],
   "source": [
    "@interact(n=IntSlider(min=1,max=20),k=IntSlider(min=1,max=20))\n",
    "def mybeta(n,k):\n",
    "    it=18\n",
    "    A=np.sort(np.random.rand(2**it,n))\n",
    "    l=A[:,k-1]\n",
    "    RV=beta(k,n-k+1)\n",
    "    x=np.linspace(0,1,100)\n",
    "    plt.plot(x,RV.pdf(x))\n",
    "    plt.hist(l,bins=np.linspace(0,1,100),density=True)"
   ]
  },
  {
   "cell_type": "markdown",
   "metadata": {},
   "source": [
    "### Relation to [Binomial Distribution](https://en.wikipedia.org/wiki/Binomial_distribution)\n",
    "\n",
    "It is often said that Beta distribution is a distribution on distributions! But what is means?\n",
    "\n",
    "It essentially means that you may fix $n,k$ and think of $\\mathbb P[Bin(n,p)\\geqslant k]$ as a function of $p$. What the calculation below says is that the value of $\\mathbb P[Bin(n,p)\\geqslant k]$ increases from $0$ to $1$ when you tune $p$ from $0$ to $1$. The increasing rate at each $p$ is exactly $\\beta(k,n-k+1)$ at that $p$.\n",
    "\n",
    "------------------\n",
    "\n",
    "Let $Bin(n,p)$ denote a Binomial random variable with $n$ samples and the probability of success $p$. Using basic algebra we have\n",
    "\n",
    "$$\\frac d{dp}\\mathbb P[Bin(n,p)=i]=n\\Big(\\mathbb P[Bin(n-1,p)=i-1]-\\mathbb P[Bin(n-1,p)=i]\\Big).$$\n",
    "\n",
    "*It has also some nice combinatorial proof, think of it as an exercise!*\n",
    "\n",
    "So, we have:\n",
    "\n",
    "$$\\frac d{dp}\\mathbb P[Bin(n,p)\\geqslant k]=\\frac d{dp}\\sum_{i=k}^{n}\\mathbb P[Bin(n,p)=i]=n\\Big(\\sum_{i=k}^{n}\\mathbb P[Bin(n-1,p)=i-1]-\\mathbb P[Bin(n-1,p)=i]\\Big)$$\n",
    "which is a telescoping series and can be simplified as\n",
    "\n",
    "$$\\frac d{dp}\\mathbb P[Bin(n,p)\\geqslant k]=n\\mathbb P[Bin(n-1,p)=k-1]=\\frac{n!}{(k-1)!(n-k)!}p^{k-1}(1-p)^{n-k}=\\beta(k,n-k+1).$$\n",
    "\n",
    "As desired.\n",
    "\n",
    "----------------\n",
    "\n",
    "Here are two implementaion. The first one is easier to understand. The blue dotted plot is just $y=P[Bin(n,p)>=k+1]$ and the orange dotted plot is its derivative. You should check the checkbox to see it. The blue curve is $\\beta (k+1,n-k)$ and as you can see in coincide with the orange plot."
   ]
  },
  {
   "cell_type": "code",
   "execution_count": 48,
   "metadata": {},
   "outputs": [
    {
     "data": {
      "application/vnd.jupyter.widget-view+json": {
       "model_id": "5c15d79d6756474dbb74998d0585c5b3",
       "version_major": 2,
       "version_minor": 0
      },
      "text/html": [
       "<p>Failed to display Jupyter Widget of type <code>interactive</code>.</p>\n",
       "<p>\n",
       "  If you're reading this message in the Jupyter Notebook or JupyterLab Notebook, it may mean\n",
       "  that the widgets JavaScript is still loading. If this message persists, it\n",
       "  likely means that the widgets JavaScript library is either not installed or\n",
       "  not enabled. See the <a href=\"https://ipywidgets.readthedocs.io/en/stable/user_install.html\">Jupyter\n",
       "  Widgets Documentation</a> for setup instructions.\n",
       "</p>\n",
       "<p>\n",
       "  If you're reading this message in another frontend (for example, a static\n",
       "  rendering on GitHub or <a href=\"https://nbviewer.jupyter.org/\">NBViewer</a>),\n",
       "  it may mean that your frontend doesn't currently support widgets.\n",
       "</p>\n"
      ],
      "text/plain": [
       "interactive(children=(IntSlider(value=20, description='n', max=50, min=1), IntSlider(value=10, description='k', max=50), Checkbox(value=False, description='derivative'), Output()), _dom_classes=('widget-interact',))"
      ]
     },
     "metadata": {},
     "output_type": "display_data"
    }
   ],
   "source": [
    "@interact(n=IntSlider(min=1,max=50,value=20),k=IntSlider(min=0,max=50,value=10),derivative=Checkbox())\n",
    "def myder(n,k,derivative):\n",
    "    ss=0.01\n",
    "    xp=np.arange(0,1,ss)\n",
    "    y=[]\n",
    "    Bt=beta(k+1,n-k)\n",
    "    for p in xp:\n",
    "        Bn=binom(n,p)\n",
    "        y.append(1-Bn.cdf(k))\n",
    "    dy=np.diff(y)\n",
    "    plt.figure(figsize=(12,6))\n",
    "    plt.scatter(xp,y)\n",
    "    plt.legend(['y=P[Bin({},p)>{}]'.format(n,k)])\n",
    "    if derivative:\n",
    "        plt.scatter(ss/2+xp[:-1],dy/ss)\n",
    "        plt.plot(xp,Bt.pdf(xp))\n",
    "        plt.legend(['beta({},{})'.format(k+1,n-k),'y=P[Bin({},p)>={}]'.format(n,k+1),'dy/dp'])"
   ]
  },
  {
   "cell_type": "markdown",
   "metadata": {},
   "source": [
    "The second implementaion is also interesting since you may also tune $p$. Here the plot on the left is CDF of $Bin(n,p)$ and the cyan dot, shows its derivative according to $p$ at the point $x=k$. (Note that $p$ is not the $x-$ axis of the plot, so it's not exactly the slope of the tangent line there.)\n",
    "\n",
    "The right hand side graph is $\\beta (k,n-k+1)$, and you can see another cyan dot whose $y$ coordinate is sync with the previous one but its $x$ coordinate is $p$. You may see that this point is moving on beta distribution."
   ]
  },
  {
   "cell_type": "code",
   "execution_count": 53,
   "metadata": {},
   "outputs": [
    {
     "data": {
      "application/vnd.jupyter.widget-view+json": {
       "model_id": "3139b31fa0724194a605d428985c573d",
       "version_major": 2,
       "version_minor": 0
      },
      "text/html": [
       "<p>Failed to display Jupyter Widget of type <code>interactive</code>.</p>\n",
       "<p>\n",
       "  If you're reading this message in the Jupyter Notebook or JupyterLab Notebook, it may mean\n",
       "  that the widgets JavaScript is still loading. If this message persists, it\n",
       "  likely means that the widgets JavaScript library is either not installed or\n",
       "  not enabled. See the <a href=\"https://ipywidgets.readthedocs.io/en/stable/user_install.html\">Jupyter\n",
       "  Widgets Documentation</a> for setup instructions.\n",
       "</p>\n",
       "<p>\n",
       "  If you're reading this message in another frontend (for example, a static\n",
       "  rendering on GitHub or <a href=\"https://nbviewer.jupyter.org/\">NBViewer</a>),\n",
       "  it may mean that your frontend doesn't currently support widgets.\n",
       "</p>\n"
      ],
      "text/plain": [
       "interactive(children=(FloatSlider(value=0.5, description='p', max=1.0, min=0.01, step=0.01), IntSlider(value=20, description='n', max=50, min=1), IntSlider(value=10, description='k', max=50, min=1), Output()), _dom_classes=('widget-interact',))"
      ]
     },
     "metadata": {},
     "output_type": "display_data"
    }
   ],
   "source": [
    "ss=0.01\n",
    "@interact(p=FloatSlider(min=ss,max=1,step=ss,value=0.5),n=IntSlider(min=1,max=50,value=20),k=IntSlider(min=1,max=50,value=10))\n",
    "def myder2(p,n,k):\n",
    "    Bt=beta(k,n-k+1)\n",
    "    Bn=binom(n,p)\n",
    "    Bn2=binom(n,p-ss)\n",
    "    xbn=np.arange(0,n+1)\n",
    "    plt.figure(figsize=(15,4))\n",
    "    \n",
    "    plt.subplot(1,2,1)\n",
    "    plt.plot(xbn,Bn.cdf(xbn))\n",
    "    der=(-Bn.cdf(k-1)+Bn2.cdf(k-1))/ss\n",
    "    plt.scatter(x=k-1,y=der,lw=5,c='c')\n",
    "    plt.vlines(k-1,0,Bn.cdf(k-1),'gray','--')\n",
    "    plt.hlines(der,k-1,n,'gray','--')\n",
    "    plt.ylim([-0.1,5.1])\n",
    "    \n",
    "    plt.subplot(1,2,2)\n",
    "    xp=np.arange(0,1,ss)\n",
    "    plt.plot(xp,Bt.pdf(xp))\n",
    "    plt.scatter(x=p,y=der,lw=5,c='c')\n",
    "    plt.hlines(der,0,p,'gray','--')\n",
    "    plt.ylim([-0.1,5.1])"
   ]
  }
 ],
 "metadata": {
  "kernelspec": {
   "display_name": "Python 3",
   "language": "python",
   "name": "python3"
  },
  "language_info": {
   "codemirror_mode": {
    "name": "ipython",
    "version": 3
   },
   "file_extension": ".py",
   "mimetype": "text/x-python",
   "name": "python",
   "nbconvert_exporter": "python",
   "pygments_lexer": "ipython3",
   "version": "3.6.4"
  }
 },
 "nbformat": 4,
 "nbformat_minor": 2
}
